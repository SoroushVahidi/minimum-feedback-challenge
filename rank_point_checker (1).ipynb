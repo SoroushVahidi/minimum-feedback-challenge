{
  "cells": [
    {
      "cell_type": "code",
      "execution_count": 3,
      "metadata": {
        "colab": {
          "base_uri": "https://localhost:8080/"
        },
        "id": "qP-OVuAgrO_T",
        "outputId": "e3869966-8d8c-41ca-a680-30ea2f48ae83"
      },
      "outputs": [
        {
          "output_type": "stream",
          "name": "stdout",
          "text": [
            "Drive already mounted at /content/drive; to attempt to forcibly remount, call drive.mount(\"/content/drive\", force_remount=True).\n",
            "🧠 Number of nodes in graph: 136648\n",
            "📋 Number of nodes in ranking file: 136648\n",
            "✅ All graph nodes have ranks.\n",
            "\n",
            "🔍 Sample of edge evaluations (u → v):\n",
            "  (720575940629970489 → 720575940631267655) with weight 8 — ranks: 108671 → 114805 → ✓ forward\n",
            "  (720575940629970489 → 720575940620005542) with weight 16 — ranks: 108671 → 118315 → ✓ forward\n",
            "  (720575940629970489 → 720575940626081319) with weight 7 — ranks: 108671 → 114665 → ✓ forward\n",
            "  (720575940629970489 → 720575940652258806) with weight 5 — ranks: 108671 → 119916 → ✓ forward\n",
            "  (720575940629970489 → 720575940624508563) with weight 21 — ranks: 108671 → 113208 → ✓ forward\n",
            "  (720575940629970489 → 720575940620060838) with weight 8 — ranks: 108671 → 117910 → ✓ forward\n",
            "  (720575940629970489 → 720575940652336801) with weight 23 — ranks: 108671 → 113178 → ✓ forward\n",
            "  (720575940629970489 → 720575940625096240) with weight 246 — ranks: 108671 → 114100 → ✓ forward\n",
            "  (720575940629970489 → 720575940623546603) with weight 19 — ranks: 108671 → 114040 → ✓ forward\n",
            "  (720575940629970489 → 720575940621570731) with weight 33 — ranks: 108671 → 117708 → ✓ forward\n",
            "\n",
            "📊 Initial forward edge weight: 35462925.00 / 41912141.00\n",
            "📈 Initial forward edge ratio: 0.846125\n",
            "✅ All initial ranks are unique.\n"
          ]
        }
      ],
      "source": [
        "import pandas as pd\n",
        "\n",
        "from google.colab import drive\n",
        "drive.mount('/content/drive')\n",
        "\n",
        "# === INPUTS ===\n",
        "ranking_file = \"/content/drive/MyDrive/35461047-Soroush-Ioannis-advancedimprove.csv\"\n",
        "#ranking_file = \"/content/drive/MyDrive/start_8285_refine.xlsx\"\n",
        "edge_file = \"/content/drive/MyDrive/connectome_graph.csv\"\n",
        "\n",
        "# === LOAD EDGES ===\n",
        "df = pd.read_csv(edge_file)\n",
        "df.columns = [col.strip() for col in df.columns]\n",
        "df = df.rename(columns={\n",
        "    'Source Node  ID': 'source',\n",
        "    'Target Node ID': 'target',\n",
        "    'Edge Weight': 'weight'\n",
        "})\n",
        "\n",
        "df['source'] = df['source'].astype(str).astype('int64')\n",
        "df['target'] = df['target'].astype(str).astype('int64')\n",
        "\n",
        "edges_raw = df[['source', 'target', 'weight']].values.tolist()\n",
        "node_ids = sorted(set(df['source']) | set(df['target']))\n",
        "node_to_index = {node_id: i for i, node_id in enumerate(node_ids)}\n",
        "index_to_node = {i: node_id for node_id, i in node_to_index.items()}\n",
        "edges = [(node_to_index[u], node_to_index[v], w) for u, v, w in edges_raw]\n",
        "total_weight = sum(w for _, _, w in edges)\n",
        "\n",
        "# === LOAD RANKING ===\n",
        "init_df = pd.read_csv(ranking_file)\n",
        "init_df.columns = [col.strip() for col in init_df.columns]\n",
        "node_col = \"Node ID\"\n",
        "rank_col = \"Order\"\n",
        "#node_col = \"node_id\"\n",
        "#rank_col = \"rank\"\n",
        "init_df = init_df.drop_duplicates(subset=node_col, keep=\"first\")\n",
        "init_df[node_col] = init_df[node_col].astype(str).astype(\"int64\")\n",
        "\n",
        "init_ranking_raw = dict(zip(init_df[node_col], init_df[rank_col]))\n",
        "default_rank = max(init_ranking_raw.values(), default=0) + 1\n",
        "init_ranking = {node: init_ranking_raw.get(node, default_rank) for node in node_ids}\n",
        "\n",
        "# === COMPUTE FORWARD WEIGHT + DEBUG ===\n",
        "\n",
        "# Show total ranked nodes\n",
        "print(f\"🧠 Number of nodes in graph: {len(node_ids)}\")\n",
        "print(f\"📋 Number of nodes in ranking file: {len(init_ranking_raw)}\")\n",
        "\n",
        "# Check if any nodes were assigned default_rank\n",
        "missing_nodes = [node for node in node_ids if node not in init_ranking_raw]\n",
        "if missing_nodes:\n",
        "    print(f\"⚠️ {len(missing_nodes)} nodes missing in the ranking file. Showing up to 10:\")\n",
        "    print(missing_nodes[:10])\n",
        "else:\n",
        "    print(\"✅ All graph nodes have ranks.\")\n",
        "\n",
        "# Compute and collect debug info\n",
        "forward_weight_init = 0\n",
        "sample_debug = []\n",
        "\n",
        "for u, v, w in edges:\n",
        "    node_u = index_to_node[u]\n",
        "    node_v = index_to_node[v]\n",
        "    rank_u = init_ranking[node_u]\n",
        "    rank_v = init_ranking[node_v]\n",
        "\n",
        "    is_forward = rank_u < rank_v\n",
        "    if is_forward:\n",
        "        forward_weight_init += w\n",
        "\n",
        "    if len(sample_debug) < 10:\n",
        "        sample_debug.append((node_u, rank_u, node_v, rank_v, is_forward, w))\n",
        "\n",
        "# Print sample edge info\n",
        "print(\"\\n🔍 Sample of edge evaluations (u → v):\")\n",
        "for u, ru, v, rv, fwd, w in sample_debug:\n",
        "    direction = \"✓ forward\" if fwd else \"✗ backward\"\n",
        "    print(f\"  ({u} → {v}) with weight {w} — ranks: {ru} → {rv} → {direction}\")\n",
        "\n",
        "# === PRINT RESULTS ===\n",
        "print(f\"\\n📊 Initial forward edge weight: {forward_weight_init:.2f} / {total_weight:.2f}\")\n",
        "print(f\"📈 Initial forward edge ratio: {forward_weight_init / total_weight:.6f}\")\n",
        "# === CHECK FOR DUPLICATE RANKS ===\n",
        "from collections import defaultdict\n",
        "\n",
        "rank_to_nodes = defaultdict(list)\n",
        "for node, rank in init_ranking.items():\n",
        "    rank_to_nodes[rank].append(node)\n",
        "\n",
        "duplicates = {rank: nodes for rank, nodes in rank_to_nodes.items() if len(nodes) > 1}\n",
        "\n",
        "if duplicates:\n",
        "    print(f\"\\n❌ Detected {len(duplicates)} duplicate ranks in the initial ranking.\")\n",
        "    for rank, nodes in sorted(duplicates.items())[:10]:  # Show first 10\n",
        "        print(f\"  Rank {rank} is assigned to {len(nodes)} nodes: {nodes[:5]}{'...' if len(nodes) > 5 else ''}\")\n",
        "else:\n",
        "    print(\"✅ All initial ranks are unique.\")\n"
      ]
    },
    {
      "cell_type": "code",
      "source": [
        "import pandas as pd\n",
        "\n",
        "from google.colab import drive\n",
        "drive.mount('/content/drive')\n",
        "\n",
        "# === INPUT FILE ===\n",
        "input_file = \"/content/drive/MyDrive/35461047-Soroush-Ioannis-advancedimprove.csv\"\n",
        "output_file = \"/content/drive/MyDrive/35461047-Soroush-Ioannis-advancedimprove.csv\"\n",
        "\n",
        "# === LOAD DATA ===\n",
        "df = pd.read_csv(input_file)\n",
        "df.columns = [col.strip() for col in df.columns]\n",
        "df['Node ID'] = df['Node ID'].astype(str).str.strip()\n",
        "\n",
        "# === SORT AND ASSIGN UNIQUE RANKS ===\n",
        "df = df.sort_values(by='Order').reset_index(drop=True)\n",
        "df['Order'] = range(len(df))\n",
        "\n",
        "# === SAVE TO NEW FILE ===\n",
        "df.to_csv(output_file, index=False)\n",
        "\n",
        "print(f\"✅ Corrected ranking saved to: {output_file}\")\n"
      ],
      "metadata": {
        "colab": {
          "base_uri": "https://localhost:8080/"
        },
        "id": "UL7HSkQhyQhL",
        "outputId": "79d88c81-b907-44c8-8158-77c5d52538a4"
      },
      "execution_count": null,
      "outputs": [
        {
          "output_type": "stream",
          "name": "stdout",
          "text": [
            "Drive already mounted at /content/drive; to attempt to forcibly remount, call drive.mount(\"/content/drive\", force_remount=True).\n",
            "✅ Corrected ranking saved to: /content/drive/MyDrive/35461047-Soroush-Ioannis-advancedimprove.csv\n"
          ]
        }
      ]
    }
  ],
  "metadata": {
    "colab": {
      "provenance": []
    },
    "kernelspec": {
      "display_name": "Python 3",
      "name": "python3"
    },
    "language_info": {
      "name": "python"
    }
  },
  "nbformat": 4,
  "nbformat_minor": 0
}